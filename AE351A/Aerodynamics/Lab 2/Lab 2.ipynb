{
 "cells": [
  {
   "cell_type": "code",
   "execution_count": 3,
   "metadata": {},
   "outputs": [],
   "source": [
    "import numpy as np\n",
    "import matplotlib.pyplot as plt\n",
    "%matplotlib inline"
   ]
  },
  {
   "cell_type": "code",
   "execution_count": 7,
   "metadata": {},
   "outputs": [
    {
     "name": "stdout",
     "output_type": "stream",
     "text": [
      "Reynolds Number for v = 7.96 m/s =  82282.41095890412 \n",
      "Reynolds Number for v = 9.65 m/s =  99751.9178082192\n"
     ]
    }
   ],
   "source": [
    "# Pressure Locations\n",
    "low=[0.00000, 0.00310, 0.01130, 0.02250, 0.03500, 0.05000, 0.06880, 0.10000, 0.13130, 0.17500, 0.23130, 0.30630, 0.39380,\n",
    "     0.49380, 0.59380, 0.70000, 0.80630, 0.90000, 1.00000]\n",
    "upp=[0.00000, 0.00250, 0.00940, 0.01880, 0.03130, 0.04380, 0.05630, 0.07190, 0.08750, 0.10630, 0.12500, 0.15000, 0.17500,\n",
    "     0.21250, 0.25630, 0.31250, 0.37500, 0.43130, 0.49380, 0.55000, 0.61250, 0.68130, 0.74380, 0.79690, 0.85000, 0.90000,\n",
    "     0.95000, 1.00000]\n",
    "\n",
    "# pressure differences at v = 7.96 m/s\n",
    "l8=np.array([1.73409, -1.49228, -2.29341, -2.24096, -2.00396, -1.86021, -1.66611, -1.24702, -0.98909, -0.66211, -0.51694,\n",
    "             -0.29736, -0.15229, 0.02707, 0.04078, 0.00853, -0.30550, -0.41460, -0.63767])\n",
    "u8=np.array([1.73409, 4.26583, 4.07522, 3.57597, 2.87169, 2.17735, 1.87367, 1.64150, 1.32489, 1.20948, 0.95444, 0.85041,\n",
    "             0.70472, 0.54483, 0.46200, 0.37916, 0.18322, 0.20037, 0.27189, 0.35432, 0.40334, 0.52898, 0.45550, 0.44161,\n",
    "             -0.64859, -1.52073, -0.07820, -0.63767])\n",
    "\n",
    "# pressure differences at v = 9.65 m/s\n",
    "l10=np.array([29.06512, 25.67111, 12.16835, 5.27642, 1.23058, -1.32958, -4.43348, -6.58659, -7.67785, -8.34854, -8.57931,\n",
    "              -8.11771, -7.24604, -5.82624, -4.47572, -2.63794, -1.51863, -1.07201, 0.77369])\n",
    "u10=np.array([29.06512, 9.41322, -11.98164, -14.46116, -17.00449, -18.91118, -19.44797, -19.4726, -19.46541, -19.06395,\n",
    "              -18.56619, -17.56055, -16.64742, -15.5884, -14.08034, -12.57229, -11.43915, -10.01661, -8.7844, -7.4489,\n",
    "              -6.56822, -5.66594, -5.17357, -3.58939, 0.60951, 1.02747, 1.35957, 0.77369])\n",
    "\n",
    "v8 = 7.96 # in m/s\n",
    "v10 = 9.65 # in m/s\n",
    "D = 0.154 # Chord Length in meters\n",
    "\n",
    "# Calculating Reynolds Number\n",
    "Re_8 = 1.225*v8*D/(1.825/100000)\n",
    "Re_10 = 1.225*v10*D/(1.825/100000)\n",
    "\n",
    "print('Reynolds Number for v = 7.96 m/s = ',Re_8 ,'\\nReynolds Number for v = 9.65 m/s = ', Re_10)\n",
    "\n",
    "pd8=0.5*1.225*v8*v8\n",
    "pd10=0.5*1.225*v10*v10\n",
    "\n",
    "# Plotting values\n",
    "fig=plt.figure(figsize=(10,7))\n",
    "l1,=plt.plot(low,l8/pd8, marker='o', color='b')\n",
    "l2,=plt.plot(upp,u8/pd8, marker='o', color='r')\n",
    "plt.xlabel('x-location')\n",
    "plt.ylabel('Coefficient of Pressure')\n",
    "plt.legend((l1,l2),('Lower','Upper'))\n",
    "plt.grid()\n",
    "fig.savefig('8.png', format='png', dpi=300)\n",
    "\n",
    "fig1=plt.figure(figsize=(10,7))\n",
    "l3,=plt.plot(low,l10/pd10, marker='o', color='b')\n",
    "l4,=plt.plot(upp,u10/pd10, marker='o', color='r')\n",
    "plt.xlabel('x-location')\n",
    "plt.ylabel('Coefficient of Pressure')\n",
    "plt.legend((l3,l4),('Lower','Upper'))\n",
    "plt.grid()\n",
    "fig1.savefig('10.png', format='png', dpi=300)"
   ]
  }
 ],
 "metadata": {
  "kernelspec": {
   "display_name": "Python 3",
   "language": "python",
   "name": "python3"
  },
  "language_info": {
   "codemirror_mode": {
    "name": "ipython",
    "version": 3
   },
   "file_extension": ".py",
   "mimetype": "text/x-python",
   "name": "python",
   "nbconvert_exporter": "python",
   "pygments_lexer": "ipython3",
   "version": "3.7.4"
  }
 },
 "nbformat": 4,
 "nbformat_minor": 2
}
