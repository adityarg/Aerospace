{
 "cells": [
  {
   "cell_type": "code",
   "execution_count": 3,
   "metadata": {},
   "outputs": [],
   "source": [
    "import numpy as np\n",
    "import pandas as pd\n",
    "import matplotlib.pyplot as plt"
   ]
  },
  {
   "cell_type": "code",
   "execution_count": 44,
   "metadata": {},
   "outputs": [
    {
     "data": {
      "text/html": [
       "<div>\n",
       "<style scoped>\n",
       "    .dataframe tbody tr th:only-of-type {\n",
       "        vertical-align: middle;\n",
       "    }\n",
       "\n",
       "    .dataframe tbody tr th {\n",
       "        vertical-align: top;\n",
       "    }\n",
       "\n",
       "    .dataframe thead th {\n",
       "        text-align: right;\n",
       "    }\n",
       "</style>\n",
       "<table border=\"1\" class=\"dataframe\">\n",
       "  <thead>\n",
       "    <tr style=\"text-align: right;\">\n",
       "      <th></th>\n",
       "      <th>country</th>\n",
       "      <th>indicator</th>\n",
       "      <th>daily_count</th>\n",
       "      <th>date</th>\n",
       "    </tr>\n",
       "  </thead>\n",
       "  <tbody>\n",
       "    <tr>\n",
       "      <th>0</th>\n",
       "      <td>Afghanistan</td>\n",
       "      <td>confirmed cases</td>\n",
       "      <td>0</td>\n",
       "      <td>2020-01-02</td>\n",
       "    </tr>\n",
       "    <tr>\n",
       "      <th>1</th>\n",
       "      <td>Afghanistan</td>\n",
       "      <td>confirmed cases</td>\n",
       "      <td>0</td>\n",
       "      <td>2020-01-03</td>\n",
       "    </tr>\n",
       "    <tr>\n",
       "      <th>2</th>\n",
       "      <td>Afghanistan</td>\n",
       "      <td>confirmed cases</td>\n",
       "      <td>0</td>\n",
       "      <td>2020-01-04</td>\n",
       "    </tr>\n",
       "    <tr>\n",
       "      <th>3</th>\n",
       "      <td>Afghanistan</td>\n",
       "      <td>confirmed cases</td>\n",
       "      <td>0</td>\n",
       "      <td>2020-01-05</td>\n",
       "    </tr>\n",
       "    <tr>\n",
       "      <th>4</th>\n",
       "      <td>Afghanistan</td>\n",
       "      <td>confirmed cases</td>\n",
       "      <td>0</td>\n",
       "      <td>2020-01-06</td>\n",
       "    </tr>\n",
       "  </tbody>\n",
       "</table>\n",
       "</div>"
      ],
      "text/plain": [
       "       country        indicator  daily_count        date\n",
       "0  Afghanistan  confirmed cases            0  2020-01-02\n",
       "1  Afghanistan  confirmed cases            0  2020-01-03\n",
       "2  Afghanistan  confirmed cases            0  2020-01-04\n",
       "3  Afghanistan  confirmed cases            0  2020-01-05\n",
       "4  Afghanistan  confirmed cases            0  2020-01-06"
      ]
     },
     "execution_count": 44,
     "metadata": {},
     "output_type": "execute_result"
    }
   ],
   "source": [
    "df=pd.read_csv('coviddata.csv')\n",
    "df.drop(['country_code','continent','source','population','rate_14_day'],axis=1,inplace=True)"
   ]
  },
  {
   "cell_type": "code",
   "execution_count": 63,
   "metadata": {},
   "outputs": [
    {
     "name": "stdout",
     "output_type": "stream",
     "text": [
      "[0.28016544 3.46629169]\n",
      "0.2801654401925371 32.017790207377594\n"
     ]
    },
    {
     "data": {
      "image/png": "[encoded data removed]",
      "text/plain": [
       "<Figure size 432x288 with 1 Axes>"
      ]
     },
     "metadata": {
      "needs_background": "light"
     },
     "output_type": "display_data"
    }
   ],
   "source": [
    "t=df['indicator']=='confirmed cases'\n",
    "\n",
    "t1=df['country']=='France'; df1=df[np.logical_and(t1,t)];\n",
    "t2=df['country']=='Italy'; df2=df[np.logical_and(t2,t)]\n",
    "t3=df['country']=='United Kingdom'; df3=df[np.logical_and(t3,t)]\n",
    "\n",
    "c1=df1['daily_count']\n",
    "c2=df2['daily_count']\n",
    "c3=df3['daily_count']\n",
    "\n",
    "\n",
    "c1.add(c2,fill_value=0)\n",
    "c1.add(c3,fill_value=0)\n",
    "\n",
    "er=c1.to_numpy(copy=True)\n",
    "\n",
    "aa=[]\n",
    "for x in range(60,72):\n",
    "    aa.append(np.log(er[x]))\n",
    "plt.plot(range(len(aa)),aa)\n",
    "\n",
    "\n",
    "p=np.polyfit(range(0,12), aa, 1)\n",
    "print(p)\n",
    "\n",
    "b=p[0]\n",
    "y0=np.exp(p[1])\n",
    "\n",
    "print(b,y0)"
   ]
  },
  {
   "cell_type": "markdown",
   "metadata": {},
   "source": [
    "### Bonus"
   ]
  },
  {
   "cell_type": "code",
   "execution_count": 64,
   "metadata": {},
   "outputs": [
    {
     "data": {
      "text/plain": [
       "[<matplotlib.lines.Line2D at 0x7f3a4eb5fe90>]"
      ]
     },
     "execution_count": 64,
     "metadata": {},
     "output_type": "execute_result"
    },
    {
     "data": {
      "image/png": "[encoded data removed]",
      "text/plain": [
       "<Figure size 432x288 with 1 Axes>"
      ]
     },
     "metadata": {
      "needs_background": "light"
     },
     "output_type": "display_data"
    }
   ],
   "source": [
    "res=[]\n",
    "for i in range(0,12):\n",
    "    res.append(i*b + np.log(y0))\n",
    "\n",
    "plt.plot(range(len(aa)),aa)\n",
    "plt.plot(range(len(aa)),res)"
   ]
  }
 ],
 "metadata": {
  "kernelspec": {
   "display_name": "Python 3",
   "language": "python",
   "name": "python3"
  },
  "language_info": {
   "codemirror_mode": {
    "name": "ipython",
    "version": 3
   },
   "file_extension": ".py",
   "mimetype": "text/x-python",
   "name": "python",
   "nbconvert_exporter": "python",
   "pygments_lexer": "ipython3",
   "version": "3.7.6"
  }
 },
 "nbformat": 4,
 "nbformat_minor": 4
}
